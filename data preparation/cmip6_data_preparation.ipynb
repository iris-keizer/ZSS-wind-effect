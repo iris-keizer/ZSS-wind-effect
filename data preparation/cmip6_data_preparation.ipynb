{
 "cells": [
  {
   "cell_type": "markdown",
   "id": "54d4b73c-4114-44ad-ac08-67385fd1f19a",
   "metadata": {},
   "source": [
    "# Notebook to prepare CMIP6 data to obtain wind effect\n",
    "\n",
    "\n",
    "CMIP6 data is provided by Dewi and downloaded from his work station: /nobackup/users/bars/CMIP6_regridded\n",
    "For most models the data (uas and vas) was already available as a surface field but for some models 3D fields were downloaded whereof the surface was obtained: 'CESM2', 'CESM2-WACCM', 'CIESM', 'FGOALS-g3', 'NorESM2-LM', 'NorESM2-MM', 'TaiESM1'"
   ]
  },
  {
   "cell_type": "code",
   "execution_count": 1,
   "id": "0a045dfc-9789-4614-96d7-8e0406faf346",
   "metadata": {},
   "outputs": [
    {
     "data": {
      "text/plain": [
       "<dask.config.set at 0x10585fcd0>"
      ]
     },
     "execution_count": 1,
     "metadata": {},
     "output_type": "execute_result"
    }
   ],
   "source": [
    "import xarray as xr\n",
    "import pandas as pd\n",
    "import numpy as np\n",
    "import dask\n",
    "\n",
    "\n",
    "dask.config.set(**{'array.slicing.split_large_chunks': False})"
   ]
  },
  {
   "cell_type": "markdown",
   "id": "19388ace-3c59-43b9-a9e1-b389f7f27f58",
   "metadata": {},
   "source": [
    "## Import and merge historical wind data"
   ]
  },
  {
   "cell_type": "code",
   "execution_count": 2,
   "id": "27c2a4ed-f03e-40b5-8a5a-d4b1eafd208b",
   "metadata": {},
   "outputs": [],
   "source": [
    "path = '/Volumes/Iris 300 GB/CMIP6'"
   ]
  },
  {
   "cell_type": "markdown",
   "id": "d4be1c1c-6b97-43f3-b293-7852f4bbdafd",
   "metadata": {},
   "source": [
    "### Import ua and va historical data"
   ]
  },
  {
   "cell_type": "code",
   "execution_count": 3,
   "id": "e646ffcf-96dc-4e23-9820-8bd62c891579",
   "metadata": {},
   "outputs": [],
   "source": [
    "ua_his = xr.open_mfdataset(f'{path}/cmip6_ua_historical/*.nc').rename({'CorrectedReggrided_ua':'uas'})\n",
    "va_his = xr.open_mfdataset(f'{path}/cmip6_va_historical/*.nc').rename({'CorrectedReggrided_va':'vas'})"
   ]
  },
  {
   "cell_type": "markdown",
   "id": "701100bf-8202-446b-a632-e1a8a3ddabe1",
   "metadata": {},
   "source": [
    "### Import uas and vas historical data "
   ]
  },
  {
   "cell_type": "code",
   "execution_count": 4,
   "id": "3a093095-2655-45f0-947a-d9f894e4d416",
   "metadata": {},
   "outputs": [],
   "source": [
    "uas_his = xr.open_mfdataset(f'{path}/cmip6_uas_historical/*.nc').rename({'CorrectedReggrided_uas':'uas'})\n",
    "vas_his = xr.open_mfdataset(f'{path}/cmip6_vas_historical/*.nc').rename({'CorrectedReggrided_vas':'vas'})"
   ]
  },
  {
   "cell_type": "markdown",
   "id": "574671bf-8ac7-4f60-9713-57574c08d6ac",
   "metadata": {},
   "source": [
    "### Merge datasets"
   ]
  },
  {
   "cell_type": "code",
   "execution_count": 5,
   "id": "da620f27-29a2-4897-a490-b990a06c8042",
   "metadata": {},
   "outputs": [],
   "source": [
    "wind_his = xr.merge([ua_his, uas_his, va_his, vas_his])"
   ]
  },
  {
   "cell_type": "markdown",
   "id": "66bdfdf2-b84f-440e-960c-78951283528c",
   "metadata": {},
   "source": [
    "## Import historical sea level data"
   ]
  },
  {
   "cell_type": "code",
   "execution_count": 6,
   "id": "15106894-ba8c-43ba-a73a-fa4b49aaadff",
   "metadata": {},
   "outputs": [],
   "source": [
    "zos_his = xr.open_mfdataset(f'{path}/cmip6_zos_historical/*.nc').rename({\"CorrectedReggrided_zos\":\"zos\"})"
   ]
  },
  {
   "cell_type": "markdown",
   "id": "3e680ad8-e8cb-4834-bc03-f6bd20a6a706",
   "metadata": {},
   "source": [
    "## Data preparations"
   ]
  },
  {
   "cell_type": "markdown",
   "id": "59029d8b-628b-4cb1-b64e-ed990d2ae887",
   "metadata": {},
   "source": [
    "### Select the same models for wind and sea level data"
   ]
  },
  {
   "cell_type": "code",
   "execution_count": 7,
   "id": "40cae28f-ecfd-4a1f-92de-383a4ab2cee0",
   "metadata": {},
   "outputs": [],
   "source": [
    "wind_his = wind_his.where(wind_his.model.isin(zos_his.model), drop = True)\n",
    "zos_his = zos_his.where(zos_his.model.isin(wind_his.model), drop = True)"
   ]
  },
  {
   "cell_type": "markdown",
   "id": "c4ef9fb7-b42d-40cd-8061-3fa69d35e4b6",
   "metadata": {},
   "source": [
    "### Select data near tide gauge stations"
   ]
  },
  {
   "cell_type": "code",
   "execution_count": 8,
   "id": "5bdcd9c9-9f74-442b-b189-4e83df755ee8",
   "metadata": {},
   "outputs": [],
   "source": [
    "stations = ['Vlissingen', 'Hoek v. Holland', 'Den Helder', 'Delfzijl', 'Harlingen', 'IJmuiden', 'Average']\n",
    "\n",
    "\n",
    "def cmip6_np_coords(): \n",
    "    \"\"\"\n",
    "    Function to obtain a dataframe containing the coordinates of cmip6 nearest points to tide gauge models\n",
    "    \"\"\"\n",
    "    lat_lst = [51.5, 52.5, 52.5, 53.5, 53.5, 52.5]\n",
    "    lon_lst = [3.5, 4.5, 4.5, 6.5, 5.5, 4.5]\n",
    "    df = pd.DataFrame({'station' : stations[:-1], 'lat' : lat_lst, 'lon' : lon_lst})\n",
    "    df = df.set_index('station')\n",
    "    \n",
    "    return df\n",
    "\n",
    "coord_df = cmip6_np_coords()\n",
    "\n",
    "\n",
    "def obtain_data_near_tgstation(dataset):\n",
    "    \"\"\"\n",
    "    Function to obtain a dataset containing timeseries near the Dutch tide gauges\n",
    "        \n",
    "    \"\"\"\n",
    "    \n",
    "    \n",
    "    lst = [] # List to save datasets\n",
    "    \n",
    "    # Loop over the tide gauge stations\n",
    "    for index, row in coord_df.iterrows():\n",
    "        \n",
    "        lst.append(dataset.sel(lon = row.lon, lat = row.lat, method = 'nearest'))\n",
    "        lst[-1] = lst[-1].drop(['lat', 'lon'])\n",
    "        \n",
    "    \n",
    "    # Create a new dataset\n",
    "    dataset_tg = xr.concat(lst, stations[:-1]).rename({'concat_dim':'station'})\n",
    "    \n",
    "    \n",
    "    # Calculate average station\n",
    "    average = dataset_tg.mean('station')\n",
    "    average = average.assign_coords({'station':'Average'})\n",
    "    \n",
    "    \n",
    "    # Concat to original dataarray\n",
    "    dataset_tg = xr.concat([dataset_tg, average], dim='station')\n",
    "    \n",
    "    \n",
    "    return dataset_tg\n",
    "    "
   ]
  },
  {
   "cell_type": "code",
   "execution_count": 9,
   "id": "2a1fcc6c-ecdd-4c90-aae5-80991e8eac59",
   "metadata": {},
   "outputs": [],
   "source": [
    "zos_his = obtain_data_near_tgstation(zos_his)\n",
    "wind_his = obtain_data_near_tgstation(wind_his)"
   ]
  },
  {
   "cell_type": "markdown",
   "id": "914a753a-fc5b-449f-9051-d0d99c9e03b1",
   "metadata": {},
   "source": [
    "### Check if model variants match"
   ]
  },
  {
   "cell_type": "code",
   "execution_count": 10,
   "id": "24c45a3a-9093-47f7-b4f8-9f585aca3c8b",
   "metadata": {},
   "outputs": [
    {
     "name": "stdout",
     "output_type": "stream",
     "text": [
      "r1i1p1f1 r1i1p1f1 r1i1p1f1\n",
      "r1i1p1f1 r1i1p1f1 r1i1p1f1\n",
      "r1i1p1f1 r1i1p1f1 r1i1p1f1\n",
      "r1i1p1f1 r1i1p1f1 r1i1p1f1\n",
      "r1i1p1f1 r1i1p1f1 r1i1p1f1\n",
      "r1i1p1f1 r1i1p1f1 r1i1p1f1\n",
      "r1i1p1f1 r1i1p1f1 r1i1p1f1\n",
      "r1i1p1f1 r1i1p1f1 r1i1p1f1\n",
      "r1i1p1f1 r1i1p1f1 r1i1p1f1\n",
      "r1i1p1f1 r1i1p1f1 r1i1p1f1\n",
      "r1i1p1f1 r1i1p1f1 r1i1p1f1\n",
      "r1i1p1f1 r1i1p1f1 r1i1p1f1\n",
      "r1i1p1f1 r1i1p1f1 r1i1p1f1\n",
      "r1i1p1f1 r1i1p1f1 r1i1p1f1\n",
      "r1i1p1f1 r1i1p1f1 r1i1p1f1\n",
      "r1i1p1f1 r1i1p1f1 r1i1p1f1\n",
      "r1i1p1f1 r1i1p1f1 r1i1p1f1\n",
      "r1i1p1f1 r1i1p1f1 r1i1p1f1\n",
      "r1i1p1f1 r1i1p1f1 r1i1p1f1\n",
      "r1i1p1f1 r1i1p1f1 r1i1p1f1\n",
      "r1i1p1f1 r1i1p1f1 r1i1p1f1\n",
      "r1i1p1f1 r1i1p1f1 r1i1p1f1\n",
      "r1i1p1f1 r1i1p1f1 r1i1p1f1\n",
      "r1i1p1f1 r1i1p1f1 r1i1p1f1\n",
      "r1i1p1f1 r1i1p1f1 r1i1p1f1\n",
      "r1i1p1f1 r1i1p1f1 r1i1p1f1\n",
      "r1i1p1f1 r1i1p1f1 r1i1p1f1\n",
      "r1i1p1f1 r1i1p1f1 r1i1p1f1\n",
      "r1i1p1f1 r1i1p1f1 r1i1p1f1\n",
      "r1i1p1f1 r1i1p1f1 r1i1p1f1\n",
      "r1i1p1f1 r1i1p1f1 r1i1p1f1\n",
      "r1i1p1f1 r1i1p1f1 r1i1p1f1\n",
      "r1i1p1f1 r1i1p1f1 r1i1p1f1\n",
      "r1i1p1f1 r1i1p1f1 r1i1p1f1\n",
      "r1i1p1f1 r1i1p1f1 r1i1p1f1\n",
      "r1i1p1f1 r1i1p1f1 r1i1p1f1\n",
      "r1i1p1f1 r1i1p1f1 r1i1p1f1\n",
      "r1i1p1f1 r1i1p1f1 r1i1p1f1\n",
      "r1i1p1f1 r1i1p1f1 r1i1p1f1\n",
      "r1i1p1f1 r1i1p1f1 r1i1p1f1\n",
      "r1i1p1f1 r1i1p1f1 r1i1p1f1\n",
      "r1i1p1f1 r1i1p1f1 r1i1p1f1\n",
      "r1i1p1f1 r1i1p1f1 r1i1p1f1\n",
      "r1i1p1f1 r1i1p1f1 r1i1p1f1\n"
     ]
    }
   ],
   "source": [
    "for model in zos_his.model.data:\n",
    "    print(zos_his.sel(model = model).zos.attrs['variant'], wind_his.sel(model = model).uas.attrs['variant'], wind_his.sel(model = model).vas.attrs['variant'])"
   ]
  },
  {
   "cell_type": "markdown",
   "id": "7c134001-ba42-4fa0-bd13-3686ac944514",
   "metadata": {},
   "source": [
    "All variants are the same"
   ]
  },
  {
   "cell_type": "markdown",
   "id": "d78ab78f-7617-4363-9567-3f3e9481d9ac",
   "metadata": {},
   "source": [
    "### Obtain wind stress"
   ]
  },
  {
   "cell_type": "code",
   "execution_count": 11,
   "id": "c6550f12-f571-412e-9eaa-c480bc1d1d34",
   "metadata": {},
   "outputs": [],
   "source": [
    "wind_his = wind_his.assign(u2 = wind_his.uas*np.sqrt(wind_his.uas**2 + wind_his.vas**2))\n",
    "wind_his = wind_his.assign(v2 = wind_his.vas*np.sqrt(wind_his.uas**2 + wind_his.vas**2))\n",
    "\n",
    "wind_his = wind_his.drop(['uas', 'vas'])"
   ]
  },
  {
   "cell_type": "markdown",
   "id": "cd7f08de-86aa-45de-9747-226edaac0369",
   "metadata": {},
   "source": [
    "## Check data"
   ]
  },
  {
   "cell_type": "code",
   "execution_count": null,
   "id": "920e7f39-35f8-4f09-9f5a-9bbfae678faf",
   "metadata": {},
   "outputs": [],
   "source": [
    "for station in zos_his.station.data:\n",
    "    print(station)\n",
    "    zos_his.sel(station = station).zos.plot(col = 'model', col_wrap = 4)"
   ]
  },
  {
   "cell_type": "code",
   "execution_count": null,
   "id": "ba40fd62-9006-4fda-86f7-2c5b738ffb34",
   "metadata": {},
   "outputs": [],
   "source": [
    "for station in wind_his.station.data:\n",
    "    print(station)\n",
    "    wind_his.sel(station = station).u2.plot(col = 'model', col_wrap = 4)"
   ]
  },
  {
   "cell_type": "code",
   "execution_count": null,
   "id": "3cbd01d1-a177-48a6-bca1-7c9cfedb78c1",
   "metadata": {},
   "outputs": [],
   "source": [
    "for station in wind_his.station.data:\n",
    "    print(station)\n",
    "    wind_his.sel(station = station).v2.plot(col = 'model', col_wrap = 4)"
   ]
  },
  {
   "cell_type": "markdown",
   "id": "1aa2969c-0885-4611-8a36-b0647dc2be94",
   "metadata": {},
   "source": [
    "## Remove FGOALS-g3 model as its wind data is weird"
   ]
  },
  {
   "cell_type": "code",
   "execution_count": 20,
   "id": "65c84ae4-effd-41a9-a82a-04b395893a80",
   "metadata": {},
   "outputs": [],
   "source": [
    "models = ['ACCESS-CM2', 'ACCESS-ESM1-5', 'BCC-CSM2-MR', 'BCC-ESM1', 'CAMS-CSM1-0',\n",
    "       'CAS-ESM2-0', 'CESM2', 'CESM2-WACCM', 'CIESM', 'CMCC-CM2-SR5',\n",
    "       'CMCC-ESM2', 'CNRM-CM6-1', 'CNRM-ESM2-1', 'CanESM5', 'CanESM5-CanOE',\n",
    "       'EC-Earth3', 'EC-Earth3-AerChem', 'EC-Earth3-CC', 'EC-Earth3-Veg',\n",
    "       'EC-Earth3-Veg-LR', 'FGOALS-f3-L', 'GFDL-CM4', 'GFDL-ESM4',\n",
    "       'GISS-E2-1-G', 'GISS-E2-1-G-CC', 'GISS-E2-1-H', 'HadGEM3-GC31-LL',\n",
    "       'HadGEM3-GC31-MM', 'INM-CM4-8', 'INM-CM5-0', 'IPSL-CM6A-LR',\n",
    "       'MIROC-ES2L', 'MIROC6', 'MPI-ESM-1-2-HAM', 'MPI-ESM1-2-HR',\n",
    "       'MPI-ESM1-2-LR', 'MRI-ESM2-0', 'NESM3', 'NorCPM1', 'NorESM2-LM',\n",
    "       'NorESM2-MM', 'TaiESM1', 'UKESM1-0-LL']"
   ]
  },
  {
   "cell_type": "code",
   "execution_count": 21,
   "id": "44aef9a4-74f8-4beb-b833-86d5b3ca4fbe",
   "metadata": {},
   "outputs": [],
   "source": [
    "zos_his = zos_his.where(zos_his.model.isin(models), drop = True)"
   ]
  },
  {
   "cell_type": "code",
   "execution_count": 23,
   "id": "d7615312-7de5-4e61-8705-9854a69e1cd4",
   "metadata": {},
   "outputs": [],
   "source": [
    "wind_his = wind_his.where(wind_his.model.isin(models), drop = True)"
   ]
  },
  {
   "cell_type": "markdown",
   "id": "0ff29c11-6b05-4568-873f-12dc2e204f6a",
   "metadata": {},
   "source": [
    "## Save datasets"
   ]
  },
  {
   "cell_type": "code",
   "execution_count": 24,
   "id": "89662ca7-dd1d-416a-a116-57874d6efb72",
   "metadata": {},
   "outputs": [],
   "source": [
    "path = '/Users/iriskeizer/Documents/Zeespiegelscenarios/data'"
   ]
  },
  {
   "cell_type": "code",
   "execution_count": 25,
   "id": "5abcc065-6863-4057-8afa-e659b482e0b0",
   "metadata": {},
   "outputs": [],
   "source": [
    "zos_his.to_netcdf(f'{path}/sealevel_his.nc')"
   ]
  },
  {
   "cell_type": "code",
   "execution_count": 26,
   "id": "ad5f1602-1c71-4b18-80e9-d3aeff97de1d",
   "metadata": {},
   "outputs": [],
   "source": [
    "wind_his.to_netcdf(f'{path}/windstress_his.nc')"
   ]
  },
  {
   "cell_type": "code",
   "execution_count": null,
   "id": "71ee0e7a-826a-407f-a82f-3f5e80f24025",
   "metadata": {},
   "outputs": [],
   "source": []
  },
  {
   "cell_type": "code",
   "execution_count": null,
   "id": "98573eba-1501-4216-874a-d88be51c9f2b",
   "metadata": {},
   "outputs": [],
   "source": []
  },
  {
   "cell_type": "code",
   "execution_count": null,
   "id": "2d069929-0a29-4ee9-8da9-47c438bfb46b",
   "metadata": {},
   "outputs": [],
   "source": []
  },
  {
   "cell_type": "code",
   "execution_count": null,
   "id": "bdaf4724-c802-4179-a1fb-fa406b9d47a8",
   "metadata": {},
   "outputs": [],
   "source": []
  },
  {
   "cell_type": "markdown",
   "id": "511cbab3-5e14-46c1-87a4-d094d7b9dca3",
   "metadata": {},
   "source": [
    "## Import and merge scenario wind data"
   ]
  },
  {
   "cell_type": "code",
   "execution_count": 57,
   "id": "6158b5fc-69f4-479b-8972-552239981453",
   "metadata": {},
   "outputs": [],
   "source": [
    "path = '/Volumes/Iris 300 GB/CMIP6'"
   ]
  },
  {
   "cell_type": "markdown",
   "id": "e0fd3fcd-f49a-473c-98e3-ea2a0c408fde",
   "metadata": {},
   "source": [
    "### Import ua and va scenario data"
   ]
  },
  {
   "cell_type": "code",
   "execution_count": 58,
   "id": "d857736d-933c-4c3b-8a9e-4913c77d0d10",
   "metadata": {},
   "outputs": [],
   "source": [
    "ua_ssp126 = xr.open_mfdataset(f'{path}/cmip6_ua_ssp126/*.nc').rename({'CorrectedReggrided_ua':'uas'})\n",
    "va_ssp126 = xr.open_mfdataset(f'{path}/cmip6_va_ssp126/*.nc').rename({'CorrectedReggrided_va':'vas'})\n",
    "\n",
    "ua_ssp245 = xr.open_mfdataset(f'{path}/cmip6_ua_ssp245/*.nc').rename({'CorrectedReggrided_ua':'uas'})\n",
    "va_ssp245 = xr.open_mfdataset(f'{path}/cmip6_va_ssp245/*.nc').rename({'CorrectedReggrided_va':'vas'})\n",
    "\n",
    "ua_ssp585 = xr.open_mfdataset(f'{path}/cmip6_ua_ssp585/*.nc').rename({'CorrectedReggrided_ua':'uas'})\n",
    "va_ssp585 = xr.open_mfdataset(f'{path}/cmip6_va_ssp585/*.nc').rename({'CorrectedReggrided_va':'vas'})"
   ]
  },
  {
   "cell_type": "markdown",
   "id": "7b57e38a-2e3f-439b-b9be-11018cb0d4e5",
   "metadata": {},
   "source": [
    "### Import uas and vas scenario data "
   ]
  },
  {
   "cell_type": "code",
   "execution_count": 59,
   "id": "044d4071-51ba-4ae4-b355-7b97df3f199c",
   "metadata": {},
   "outputs": [],
   "source": [
    "uas_ssp126 = xr.open_mfdataset(f'{path}/cmip6_uas_ssp126/*.nc').rename({'CorrectedReggrided_uas':'uas'})\n",
    "vas_ssp126 = xr.open_mfdataset(f'{path}/cmip6_vas_ssp126/*.nc').rename({'CorrectedReggrided_vas':'vas'})\n",
    "\n",
    "uas_ssp245 = xr.open_mfdataset(f'{path}/cmip6_uas_ssp245/*.nc').rename({'CorrectedReggrided_uas':'uas'})\n",
    "vas_ssp245 = xr.open_mfdataset(f'{path}/cmip6_vas_ssp245/*.nc').rename({'CorrectedReggrided_vas':'vas'})\n",
    "\n",
    "uas_ssp585 = xr.open_mfdataset(f'{path}/cmip6_uas_ssp585/*.nc').rename({'CorrectedReggrided_uas':'uas'})\n",
    "vas_ssp585 = xr.open_mfdataset(f'{path}/cmip6_vas_ssp585/*.nc').rename({'CorrectedReggrided_vas':'vas'})"
   ]
  },
  {
   "cell_type": "markdown",
   "id": "9fafd459-2616-4ee9-8510-46ec73e87c65",
   "metadata": {},
   "source": [
    "### Merge datasets"
   ]
  },
  {
   "cell_type": "code",
   "execution_count": 60,
   "id": "a4bff316-fabf-4494-8e96-f77940c20390",
   "metadata": {},
   "outputs": [],
   "source": [
    "wind_ssp126 = xr.merge([ua_ssp126, uas_ssp126, va_ssp126, vas_ssp126])\n",
    "wind_ssp245 = xr.merge([ua_ssp245, uas_ssp245, va_ssp245, vas_ssp245])\n",
    "wind_ssp585 = xr.merge([ua_ssp585, uas_ssp585, va_ssp585, vas_ssp585])"
   ]
  },
  {
   "cell_type": "markdown",
   "id": "32112df4-8e28-4d40-b408-10dbda775e00",
   "metadata": {},
   "source": [
    "## Import scenario sea level data"
   ]
  },
  {
   "cell_type": "code",
   "execution_count": 61,
   "id": "5c1495cf-9b48-4001-a704-94b614ef0200",
   "metadata": {},
   "outputs": [],
   "source": [
    "zos_ssp126 = xr.open_mfdataset(f'{path}/cmip6_zos_ssp126/*.nc').rename({\"CorrectedReggrided_zos\":\"zos\"})\n",
    "zos_ssp245 = xr.open_mfdataset(f'{path}/cmip6_zos_ssp245/*.nc').rename({\"CorrectedReggrided_zos\":\"zos\"})\n",
    "zos_ssp585 = xr.open_mfdataset(f'{path}/cmip6_zos_ssp585/*.nc').rename({\"CorrectedReggrided_zos\":\"zos\"})"
   ]
  },
  {
   "cell_type": "markdown",
   "id": "6ef29476-ab8f-4665-b957-59464176af6c",
   "metadata": {},
   "source": [
    "## Data preparations"
   ]
  },
  {
   "cell_type": "markdown",
   "id": "95464051-1225-4f1c-bfbe-38557e7fbd3e",
   "metadata": {},
   "source": [
    "### Only keep models that are in historical data"
   ]
  },
  {
   "cell_type": "code",
   "execution_count": 62,
   "id": "37a1f905-4675-4013-a220-45d863210ce2",
   "metadata": {},
   "outputs": [],
   "source": [
    "wind_ssp126 = wind_ssp126.where(wind_ssp126.model.isin(wind_his.model), drop = True)\n",
    "\n",
    "wind_ssp245 = wind_ssp245.where(wind_ssp245.model.isin(wind_his.model), drop = True)\n",
    "\n",
    "wind_ssp585 = wind_ssp585.where(wind_ssp585.model.isin(wind_his.model), drop = True)\n",
    "\n"
   ]
  },
  {
   "cell_type": "markdown",
   "id": "db53615c-05fc-4475-a8f3-676f7e93f2a9",
   "metadata": {},
   "source": [
    "### Select data near tide gauge stations"
   ]
  },
  {
   "cell_type": "code",
   "execution_count": 63,
   "id": "803e2dfc-cd78-41b4-9921-adbdf2c42bf2",
   "metadata": {},
   "outputs": [],
   "source": [
    "stations = ['Vlissingen', 'Hoek v. Holland', 'Den Helder', 'Delfzijl', 'Harlingen', 'IJmuiden', 'Average']\n",
    "\n",
    "\n",
    "def cmip6_np_coords(): \n",
    "    \"\"\"\n",
    "    Function to obtain a dataframe containing the coordinates of cmip6 nearest points to tide gauge models\n",
    "    \"\"\"\n",
    "    lat_lst = [51.5, 52.5, 52.5, 53.5, 53.5, 52.5]\n",
    "    lon_lst = [3.5, 4.5, 4.5, 6.5, 5.5, 4.5]\n",
    "    df = pd.DataFrame({'station' : stations[:-1], 'lat' : lat_lst, 'lon' : lon_lst})\n",
    "    df = df.set_index('station')\n",
    "    \n",
    "    return df\n",
    "\n",
    "coord_df = cmip6_np_coords()\n",
    "\n",
    "\n",
    "def obtain_data_near_tgstation(dataset):\n",
    "    \"\"\"\n",
    "    Function to obtain a dataset containing timeseries near the Dutch tide gauges\n",
    "        \n",
    "    \"\"\"\n",
    "    \n",
    "    \n",
    "    lst = [] # List to save datasets\n",
    "    \n",
    "    # Loop over the tide gauge stations\n",
    "    for index, row in coord_df.iterrows():\n",
    "        \n",
    "        lst.append(dataset.sel(lon = row.lon, lat = row.lat, method = 'nearest'))\n",
    "        lst[-1] = lst[-1].drop(['lat', 'lon'])\n",
    "        \n",
    "    \n",
    "    # Create a new dataset\n",
    "    dataset_tg = xr.concat(lst, stations[:-1]).rename({'concat_dim':'station'})\n",
    "    \n",
    "    \n",
    "    # Calculate average station\n",
    "    average = dataset_tg.mean('station')\n",
    "    average = average.assign_coords({'station':'Average'})\n",
    "    \n",
    "    \n",
    "    # Concat to original dataarray\n",
    "    dataset_tg = xr.concat([dataset_tg, average], dim='station')\n",
    "    \n",
    "    \n",
    "    return dataset_tg\n",
    "    "
   ]
  },
  {
   "cell_type": "code",
   "execution_count": 64,
   "id": "5cd87391-6905-456c-b89e-edbe1598823f",
   "metadata": {},
   "outputs": [],
   "source": [
    "zos_ssp126 = obtain_data_near_tgstation(zos_ssp126)\n",
    "zos_ssp245 = obtain_data_near_tgstation(zos_ssp245)\n",
    "zos_ssp585 = obtain_data_near_tgstation(zos_ssp585)\n",
    "\n",
    "\n",
    "wind_ssp126 = obtain_data_near_tgstation(wind_ssp126)\n",
    "wind_ssp245 = obtain_data_near_tgstation(wind_ssp245)\n",
    "wind_ssp585 = obtain_data_near_tgstation(wind_ssp585)"
   ]
  },
  {
   "cell_type": "markdown",
   "id": "6f339f11-2753-4f80-bc9c-d1e771cd2468",
   "metadata": {},
   "source": [
    "### Obtain wind stress"
   ]
  },
  {
   "cell_type": "code",
   "execution_count": 65,
   "id": "102d3cd3-7e67-4b72-a901-c88e16f8b054",
   "metadata": {},
   "outputs": [],
   "source": [
    "wind_ssp126 = wind_ssp126.assign(u2 = wind_ssp126.uas*np.sqrt(wind_ssp126.uas**2 + wind_ssp126.vas**2))\n",
    "wind_ssp126 = wind_ssp126.assign(v2 = wind_ssp126.vas*np.sqrt(wind_ssp126.uas**2 + wind_ssp126.vas**2))\n",
    "\n",
    "wind_ssp245 = wind_ssp245.assign(u2 = wind_ssp245.uas*np.sqrt(wind_ssp245.uas**2 + wind_ssp245.vas**2))\n",
    "wind_ssp245 = wind_ssp245.assign(v2 = wind_ssp245.vas*np.sqrt(wind_ssp245.uas**2 + wind_ssp245.vas**2))\n",
    "\n",
    "wind_ssp585 = wind_ssp585.assign(u2 = wind_ssp585.uas*np.sqrt(wind_ssp585.uas**2 + wind_ssp585.vas**2))\n",
    "wind_ssp585 = wind_ssp585.assign(v2 = wind_ssp585.vas*np.sqrt(wind_ssp585.uas**2 + wind_ssp585.vas**2))\n",
    "\n",
    "wind_ssp126 = wind_ssp126.drop(['uas', 'vas'])\n",
    "wind_ssp245 = wind_ssp245.drop(['uas', 'vas'])\n",
    "wind_ssp585 = wind_ssp585.drop(['uas', 'vas'])"
   ]
  },
  {
   "cell_type": "code",
   "execution_count": null,
   "id": "a311b213-65a7-48ba-9399-54204fdfd642",
   "metadata": {},
   "outputs": [],
   "source": []
  },
  {
   "cell_type": "code",
   "execution_count": null,
   "id": "1e0b69ad-eafe-4cb8-9797-450c6d952942",
   "metadata": {},
   "outputs": [],
   "source": []
  },
  {
   "cell_type": "code",
   "execution_count": null,
   "id": "0a53621b-59f9-4b8f-970e-54b2bcb7120d",
   "metadata": {},
   "outputs": [],
   "source": []
  },
  {
   "cell_type": "markdown",
   "id": "66815adc-645c-42cc-86e9-61db623f3af9",
   "metadata": {},
   "source": [
    "## Save datasets"
   ]
  },
  {
   "cell_type": "code",
   "execution_count": 68,
   "id": "5e50128a-088a-49f0-b137-ec0cc46a6a83",
   "metadata": {},
   "outputs": [],
   "source": [
    "path = '/Users/iriskeizer/Documents/Zeespiegelscenarios/data/cmip6/regression input'"
   ]
  },
  {
   "cell_type": "code",
   "execution_count": 69,
   "id": "2dbd1a0b-3329-4541-ab0a-3ccfbac6bae2",
   "metadata": {},
   "outputs": [],
   "source": [
    "zos_ssp126.to_netcdf(f'{path}/sealevel_ssp126.nc')\n",
    "zos_ssp245.to_netcdf(f'{path}/sealevel_ssp245.nc')\n",
    "zos_ssp585.to_netcdf(f'{path}/sealevel_ssp585.nc')"
   ]
  },
  {
   "cell_type": "code",
   "execution_count": 70,
   "id": "0d0c3c19-aeb3-417e-bb5f-235af97657d9",
   "metadata": {},
   "outputs": [],
   "source": [
    "wind_ssp126.to_netcdf(f'{path}/windstress_ssp126.nc')\n",
    "wind_ssp245.to_netcdf(f'{path}/windstress_ssp245.nc')\n",
    "wind_ssp585.to_netcdf(f'{path}/windstress_ssp585.nc')"
   ]
  },
  {
   "cell_type": "code",
   "execution_count": null,
   "id": "7dfa88fb-408e-455f-a9d9-8d020436ee16",
   "metadata": {},
   "outputs": [],
   "source": []
  },
  {
   "cell_type": "code",
   "execution_count": null,
   "id": "d89ccf21-3ce6-4572-aa4d-e541f29dd093",
   "metadata": {},
   "outputs": [],
   "source": []
  }
 ],
 "metadata": {
  "kernelspec": {
   "display_name": "py310",
   "language": "python",
   "name": "py310"
  },
  "language_info": {
   "codemirror_mode": {
    "name": "ipython",
    "version": 3
   },
   "file_extension": ".py",
   "mimetype": "text/x-python",
   "name": "python",
   "nbconvert_exporter": "python",
   "pygments_lexer": "ipython3",
   "version": "3.10.6"
  }
 },
 "nbformat": 4,
 "nbformat_minor": 5
}
